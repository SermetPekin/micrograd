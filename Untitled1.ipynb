{
 "cells": [
  {
   "cell_type": "code",
   "execution_count": 1,
   "id": "c361fb73-7b62-4ed9-bb01-149c96359b08",
   "metadata": {},
   "outputs": [
    {
     "name": "stdout",
     "output_type": "stream",
     "text": [
      "Epoch 0, Loss: 6.231\n",
      "Epoch 1, Loss: 5.469\n",
      "Epoch 2, Loss: 4.779\n",
      "Epoch 3, Loss: 4.158\n",
      "Epoch 4, Loss: 3.608\n",
      "Epoch 5, Loss: 3.124\n",
      "Epoch 6, Loss: 2.684\n",
      "Epoch 7, Loss: 2.298\n",
      "Epoch 8, Loss: 1.964\n",
      "Epoch 9, Loss: 1.661\n",
      "Epoch 10, Loss: 1.398\n",
      "Epoch 11, Loss: 1.176\n",
      "Epoch 12, Loss: 1.020\n",
      "Epoch 13, Loss: 0.902\n",
      "Epoch 14, Loss: 0.792\n",
      "Epoch 15, Loss: 0.693\n",
      "Epoch 16, Loss: 0.613\n",
      "Epoch 17, Loss: 0.556\n",
      "Epoch 18, Loss: 0.502\n",
      "Epoch 19, Loss: 0.454\n",
      "Epoch 20, Loss: 0.419\n",
      "Epoch 21, Loss: 0.396\n",
      "Epoch 22, Loss: 0.377\n",
      "Epoch 23, Loss: 0.362\n",
      "Epoch 24, Loss: 0.349\n",
      "Epoch 25, Loss: 0.338\n",
      "Epoch 26, Loss: 0.327\n",
      "Epoch 27, Loss: 0.317\n",
      "Epoch 28, Loss: 0.305\n",
      "Epoch 29, Loss: 0.292\n",
      "Epoch 30, Loss: 0.276\n",
      "Epoch 31, Loss: 0.259\n",
      "Epoch 32, Loss: 0.243\n",
      "Epoch 33, Loss: 0.227\n",
      "Epoch 34, Loss: 0.211\n",
      "Epoch 35, Loss: 0.196\n",
      "Epoch 36, Loss: 0.182\n",
      "Epoch 37, Loss: 0.169\n",
      "Epoch 38, Loss: 0.158\n",
      "Epoch 39, Loss: 0.148\n",
      "Epoch 40, Loss: 0.139\n",
      "Epoch 41, Loss: 0.131\n",
      "Epoch 42, Loss: 0.124\n",
      "Epoch 43, Loss: 0.119\n",
      "Epoch 44, Loss: 0.115\n",
      "Epoch 45, Loss: 0.112\n",
      "Epoch 46, Loss: 0.108\n",
      "Epoch 47, Loss: 0.105\n",
      "Epoch 48, Loss: 0.102\n",
      "Epoch 49, Loss: 0.098\n",
      "Epoch 50, Loss: 0.095\n",
      "Epoch 51, Loss: 0.091\n",
      "Epoch 52, Loss: 0.087\n",
      "Epoch 53, Loss: 0.083\n",
      "Epoch 54, Loss: 0.079\n",
      "Epoch 55, Loss: 0.075\n",
      "Epoch 56, Loss: 0.071\n",
      "Epoch 57, Loss: 0.068\n",
      "Epoch 58, Loss: 0.064\n",
      "Epoch 59, Loss: 0.061\n",
      "Epoch 60, Loss: 0.057\n",
      "Epoch 61, Loss: 0.054\n",
      "Epoch 62, Loss: 0.052\n",
      "Epoch 63, Loss: 0.049\n",
      "Epoch 64, Loss: 0.047\n",
      "Epoch 65, Loss: 0.045\n",
      "Epoch 66, Loss: 0.043\n",
      "Epoch 67, Loss: 0.041\n",
      "Epoch 68, Loss: 0.039\n",
      "Epoch 69, Loss: 0.038\n",
      "Epoch 70, Loss: 0.036\n",
      "Epoch 71, Loss: 0.035\n",
      "Epoch 72, Loss: 0.033\n",
      "Epoch 73, Loss: 0.032\n",
      "Epoch 74, Loss: 0.030\n",
      "Epoch 75, Loss: 0.029\n",
      "Epoch 76, Loss: 0.028\n",
      "Epoch 77, Loss: 0.026\n",
      "Epoch 78, Loss: 0.025\n",
      "Epoch 79, Loss: 0.024\n",
      "Epoch 80, Loss: 0.023\n",
      "Epoch 81, Loss: 0.022\n",
      "Epoch 82, Loss: 0.021\n",
      "Epoch 83, Loss: 0.021\n",
      "Epoch 84, Loss: 0.020\n",
      "Epoch 85, Loss: 0.019\n",
      "Epoch 86, Loss: 0.019\n",
      "Epoch 87, Loss: 0.018\n",
      "Epoch 88, Loss: 0.017\n",
      "Epoch 89, Loss: 0.017\n",
      "Epoch 90, Loss: 0.016\n",
      "Epoch 91, Loss: 0.016\n",
      "Epoch 92, Loss: 0.015\n",
      "Epoch 93, Loss: 0.015\n",
      "Epoch 94, Loss: 0.014\n",
      "Epoch 95, Loss: 0.014\n",
      "Epoch 96, Loss: 0.013\n",
      "Epoch 97, Loss: 0.013\n",
      "Epoch 98, Loss: 0.013\n",
      "Epoch 99, Loss: 0.012\n"
     ]
    }
   ],
   "source": [
    "from micrograd.generics.micrograd_ import  with_micrograd"
   ]
  },
  {
   "cell_type": "code",
   "execution_count": 2,
   "id": "8a8285e6-30dc-4286-9a62-0f17d58d7e12",
   "metadata": {},
   "outputs": [
    {
     "ename": "TypeError",
     "evalue": "MicrogradImpl.__init__() got an unexpected keyword argument 'k_folds'",
     "output_type": "error",
     "traceback": [
      "\u001b[0;31m---------------------------------------------------------------------------\u001b[0m",
      "\u001b[0;31mTypeError\u001b[0m                                 Traceback (most recent call last)",
      "Cell \u001b[0;32mIn[2], line 1\u001b[0m\n\u001b[0;32m----> 1\u001b[0m \u001b[43mwith_micrograd\u001b[49m\u001b[43m(\u001b[49m\u001b[43m)\u001b[49m\n",
      "File \u001b[0;32m~/Documents/git_repos_public/micrograd-my-clone/micrograd/micrograd/generics/micrograd_.py:194\u001b[0m, in \u001b[0;36mwith_micrograd\u001b[0;34m(epochs, lr, k_folds)\u001b[0m\n\u001b[1;32m    188\u001b[0m \u001b[38;5;28;01mdef\u001b[39;00m \u001b[38;5;21mwith_micrograd\u001b[39m(epochs\u001b[38;5;241m=\u001b[39m\u001b[38;5;241m100\u001b[39m, lr\u001b[38;5;241m=\u001b[39m\u001b[38;5;241m0.01\u001b[39m, k_folds\u001b[38;5;241m=\u001b[39m\u001b[38;5;241m5\u001b[39m):\n\u001b[1;32m    189\u001b[0m     \u001b[38;5;66;03m# GenericModel = MicrogradImpl()\u001b[39;00m\n\u001b[1;32m    190\u001b[0m     \u001b[38;5;66;03m# GenericModel.train_cv(epochs, lr, k_folds)\u001b[39;00m\n\u001b[1;32m    191\u001b[0m     \u001b[38;5;66;03m# # GenericModel.eval()\u001b[39;00m\n\u001b[1;32m    192\u001b[0m     \u001b[38;5;66;03m# GenericModel.show()\u001b[39;00m\n\u001b[1;32m    193\u001b[0m     \u001b[38;5;28;01mfrom\u001b[39;00m \u001b[38;5;21;01msklearn\u001b[39;00m\u001b[38;5;21;01m.\u001b[39;00m\u001b[38;5;21;01mmodel_selection\u001b[39;00m \u001b[38;5;28;01mimport\u001b[39;00m train_test_split\n\u001b[0;32m--> 194\u001b[0m     model \u001b[38;5;241m=\u001b[39m \u001b[43mMicrogradImpl\u001b[49m\u001b[43m(\u001b[49m\u001b[43mepochs\u001b[49m\u001b[38;5;241;43m=\u001b[39;49m\u001b[43mepochs\u001b[49m\u001b[43m,\u001b[49m\u001b[43m \u001b[49m\u001b[43mlr\u001b[49m\u001b[38;5;241;43m=\u001b[39;49m\u001b[43mlr\u001b[49m\u001b[43m,\u001b[49m\u001b[43m \u001b[49m\u001b[43mk_folds\u001b[49m\u001b[38;5;241;43m=\u001b[39;49m\u001b[43mk_folds\u001b[49m\u001b[43m)\u001b[49m\n\u001b[1;32m    196\u001b[0m     X, y \u001b[38;5;241m=\u001b[39m model\u001b[38;5;241m.\u001b[39mload_data()\n\u001b[1;32m    197\u001b[0m     X_train, X_test, y_train, y_test \u001b[38;5;241m=\u001b[39m train_test_split(X, y, test_size\u001b[38;5;241m=\u001b[39m\u001b[38;5;241m0.2\u001b[39m, random_state\u001b[38;5;241m=\u001b[39m\u001b[38;5;241m42\u001b[39m)\n",
      "\u001b[0;31mTypeError\u001b[0m: MicrogradImpl.__init__() got an unexpected keyword argument 'k_folds'"
     ]
    }
   ],
   "source": [
    "with_micrograd()"
   ]
  }
 ],
 "metadata": {
  "kernelspec": {
   "display_name": "Python 3 (ipykernel)",
   "language": "python",
   "name": "python3"
  },
  "language_info": {
   "codemirror_mode": {
    "name": "ipython",
    "version": 3
   },
   "file_extension": ".py",
   "mimetype": "text/x-python",
   "name": "python",
   "nbconvert_exporter": "python",
   "pygments_lexer": "ipython3",
   "version": "3.10.14"
  }
 },
 "nbformat": 4,
 "nbformat_minor": 5
}
